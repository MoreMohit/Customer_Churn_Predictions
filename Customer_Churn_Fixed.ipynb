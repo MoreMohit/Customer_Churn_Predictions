{
 "cells": [
  {
   "cell_type": "code",
   "execution_count": 1,
   "metadata": {},
   "outputs": [
    {
     "name": "stdout",
     "output_type": "stream",
     "text": [
      "✅ Model, scaler, features, and feature importance saved successfully!\n"
     ]
    }
   ],
   "source": [
    "import pandas as pd\n",
    "import numpy as np\n",
    "import pickle\n",
    "from sklearn.model_selection import train_test_split\n",
    "from sklearn.ensemble import RandomForestClassifier\n",
    "from sklearn.preprocessing import StandardScaler\n",
    "\n",
    "# Load dataset\n",
    "df = pd.read_csv(\"WA_Fn-UseC_-Telco-Customer-Churn.csv\")\n",
    "\n",
    "# Convert TotalCharges to numeric (fixing object dtype issue)\n",
    "df[\"TotalCharges\"] = pd.to_numeric(df[\"TotalCharges\"], errors=\"coerce\")\n",
    "\n",
    "# Fill missing values\n",
    "df.fillna(0, inplace=True)\n",
    "\n",
    "# Create Customer Lifetime Value (CLV) before splitting data\n",
    "df[\"CLV\"] = df[\"MonthlyCharges\"] * df[\"tenure\"]\n",
    "\n",
    "# Temporarily remove 'Churn' column before encoding\n",
    "churn_column = df[\"Churn\"]\n",
    "df = df.drop(columns=[\"Churn\"])\n",
    "\n",
    "# One-Hot Encode categorical features efficiently\n",
    "df = pd.get_dummies(df, drop_first=True)\n",
    "\n",
    "# Ensure all expected features exist\n",
    "expected_features = set(df.columns)\n",
    "df = pd.concat([df[col] if col in df.columns else pd.Series(0, index=df.index) for col in expected_features], axis=1)\n",
    "\n",
    "# Add 'Churn' column back to the DataFrame\n",
    "df[\"Churn\"] = churn_column\n",
    "\n",
    "# Separate features & target\n",
    "X = df.drop(columns=[\"Churn\"])\n",
    "y = df[\"Churn\"].apply(lambda x: 1 if x == \"Yes\" else 0)\n",
    "\n",
    "# Split data into train & test sets\n",
    "X_train, X_test, y_train, y_test = train_test_split(X, y, test_size=0.2, random_state=42)\n",
    "\n",
    "# Scale numerical features\n",
    "scaler = StandardScaler()\n",
    "numerical_features = [\"tenure\", \"MonthlyCharges\", \"TotalCharges\", \"CLV\"]\n",
    "X_train[numerical_features] = scaler.fit_transform(X_train[numerical_features])\n",
    "X_test[numerical_features] = scaler.transform(X_test[numerical_features])\n",
    "\n",
    "# Ensure DataFrame is defragmented before saving\n",
    "X_train = X_train.copy()\n",
    "\n",
    "# Train the model (Random Forest)\n",
    "rf_model = RandomForestClassifier(random_state=42)\n",
    "rf_model.fit(X_train, y_train)\n",
    "\n",
    "# 🔥 Save Feature Importance for Insights\n",
    "feature_importance = rf_model.feature_importances_\n",
    "importance_df = pd.DataFrame({\"Feature\": X_train.columns, \"Importance\": feature_importance})\n",
    "importance_df = importance_df.sort_values(by=\"Importance\", ascending=False)\n",
    "\n",
    "# Save Model, Features & Scaler\n",
    "with open(\"Best_Model_Forest_new.pkl\", \"wb\") as f:\n",
    "    pickle.dump(rf_model, f)\n",
    "\n",
    "with open(\"model_features.pkl\", \"wb\") as f:\n",
    "    pickle.dump(X_train.columns.tolist(), f)\n",
    "\n",
    "with open(\"scaler.pkl\", \"wb\") as f:\n",
    "    pickle.dump(scaler, f)\n",
    "\n",
    "# ✅ Save Feature Importance Separately\n",
    "with open(\"feature_importance.pkl\", \"wb\") as f:\n",
    "    pickle.dump(importance_df, f)\n",
    "\n",
    "print(\"✅ Model, scaler, features, and feature importance saved successfully!\")\n"
   ]
  }
 ],
 "metadata": {
  "kernelspec": {
   "display_name": "Python (Customer Churn)",
   "language": "python",
   "name": "customer_churn_env"
  },
  "language_info": {
   "codemirror_mode": {
    "name": "ipython",
    "version": 3
   },
   "file_extension": ".py",
   "mimetype": "text/x-python",
   "name": "python",
   "nbconvert_exporter": "python",
   "pygments_lexer": "ipython3",
   "version": "3.11.9"
  }
 },
 "nbformat": 4,
 "nbformat_minor": 2
}
